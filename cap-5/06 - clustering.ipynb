{
 "cells": [
  {
   "cell_type": "code",
   "execution_count": 8,
   "metadata": {},
   "outputs": [],
   "source": [
    "from sklearn.pipeline import Pipeline\n",
    "from sklearn.svm import SVC\n",
    "import pandas as pd\n",
    "from functions import split_label\n",
    "from sklearn.compose import ColumnTransformer\n",
    "from sklearn.preprocessing import OneHotEncoder\n",
    "from sklearn.preprocessing import MinMaxScaler\n",
    "from sklearn.cluster import KMeans\n",
    "from sklearn.metrics import silhouette_score, calinski_harabasz_score\n",
    "\n"
   ]
  },
  {
   "cell_type": "code",
   "execution_count": 6,
   "metadata": {},
   "outputs": [],
   "source": [
    "# División en train (80%) y test (20%) para clasificación, con clase 'Survived'\n",
    "titanic = pd.read_csv('data/titanic_ml.csv')\n",
    "train_X, train_y, test_X, test_y = split_label(titanic, 0.2, 'Survived')"
   ]
  },
  {
   "cell_type": "code",
   "execution_count": 9,
   "metadata": {},
   "outputs": [],
   "source": [
    "# Etapa de one hot encoding\n",
    "ohe = ColumnTransformer( [(\"embarked_ohe\", OneHotEncoder(categories='auto'), ['Embarked'])], \n",
    "                         remainder='passthrough')"
   ]
  },
  {
   "cell_type": "code",
   "execution_count": 11,
   "metadata": {},
   "outputs": [],
   "source": [
    "titanic_1=ohe.fit_transform(titanic)"
   ]
  },
  {
   "cell_type": "code",
   "execution_count": 12,
   "metadata": {},
   "outputs": [],
   "source": [
    "min_max_scaler= MinMaxScaler()"
   ]
  },
  {
   "cell_type": "code",
   "execution_count": 13,
   "metadata": {},
   "outputs": [],
   "source": [
    "titanic_2=min_max_scaler.fit_transform(titanic_1)"
   ]
  },
  {
   "cell_type": "code",
   "execution_count": 14,
   "metadata": {},
   "outputs": [],
   "source": [
    "# Etapa de escalado en rango [0,1]\n",
    "sca = MinMaxScaler()\n",
    "\n",
    "# Etapa de clustering\n",
    "clu = KMeans(n_clusters=3)\n",
    "\n",
    "# Creación del pipeline\n",
    "pipe = Pipeline([('ohe', ohe), ('sca', sca), ('clu',clu)])"
   ]
  },
  {
   "cell_type": "code",
   "execution_count": 15,
   "metadata": {},
   "outputs": [
    {
     "name": "stderr",
     "output_type": "stream",
     "text": [
      "c:\\Users\\54112\\anaconda3\\Lib\\site-packages\\sklearn\\cluster\\_kmeans.py:870: FutureWarning: The default value of `n_init` will change from 10 to 'auto' in 1.4. Set the value of `n_init` explicitly to suppress the warning\n",
      "  warnings.warn(\n",
      "c:\\Users\\54112\\anaconda3\\Lib\\site-packages\\sklearn\\cluster\\_kmeans.py:1382: UserWarning: KMeans is known to have a memory leak on Windows with MKL, when there are less chunks than available threads. You can avoid it by setting the environment variable OMP_NUM_THREADS=3.\n",
      "  warnings.warn(\n"
     ]
    },
    {
     "name": "stdout",
     "output_type": "stream",
     "text": [
      "Centros de los clústeres:\n",
      " [[-1.94289029e-16  3.79146919e-02  9.62085308e-01  9.90521327e-01\n",
      "   4.95260664e-01  3.27014218e-01  3.43576883e-01  9.95260664e-02\n",
      "   9.47867299e-02  7.78150129e-02]\n",
      " [ 1.00000000e+00  6.93889390e-18  6.66133815e-16  6.07692308e-01\n",
      "   3.73076923e-01  5.30769231e-01  3.81939799e-01  8.46153846e-02\n",
      "   6.92307692e-02  1.33306411e-01]\n",
      " [-2.49800181e-16  5.39083558e-02  9.46091644e-01  1.05471187e-15\n",
      "   7.77628032e-01  8.49056604e-01  3.75477998e-01  1.11051213e-01\n",
      "   6.01976640e-02  3.85185852e-02]]\n",
      "silhouette_score: 0.403603358828354\n",
      "calinski_harabasz: 369.21898121397425\n"
     ]
    }
   ],
   "source": [
    "\n",
    "\n",
    "# Entrenamiento del pipeline\n",
    "pipe.fit(titanic)\n",
    "print(\"Centros de los clústeres:\\n\", pipe.named_steps['clu'].cluster_centers_)\n",
    "\n",
    "# Evaluación de los clústeres\n",
    "print('silhouette_score:', silhouette_score(titanic_2, pipe.named_steps['clu'].labels_))\n",
    "print('calinski_harabasz:', calinski_harabasz_score(titanic_2, pipe.named_steps['clu'].labels_))"
   ]
  },
  {
   "cell_type": "code",
   "execution_count": null,
   "metadata": {},
   "outputs": [],
   "source": []
  }
 ],
 "metadata": {
  "kernelspec": {
   "display_name": "base",
   "language": "python",
   "name": "python3"
  },
  "language_info": {
   "codemirror_mode": {
    "name": "ipython",
    "version": 3
   },
   "file_extension": ".py",
   "mimetype": "text/x-python",
   "name": "python",
   "nbconvert_exporter": "python",
   "pygments_lexer": "ipython3",
   "version": "3.11.7"
  }
 },
 "nbformat": 4,
 "nbformat_minor": 2
}
