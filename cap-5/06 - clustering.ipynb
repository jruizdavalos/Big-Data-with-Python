{
 "cells": [
  {
   "cell_type": "code",
   "execution_count": null,
   "metadata": {},
   "outputs": [],
   "source": [
    "from sklearn.pipeline import Pipeline\n",
    "from sklearn.svm import SVC\n",
    "\n",
    "## Preprocesado\n",
    "\n",
    "# División en train (80%) y test (20%) para clasificación, con clase 'Survived'\n",
    "titanic = pd.read_csv('../../data/Cap5/titanic_ml.csv')\n",
    "train_X, train_y, test_X, test_y = split_label(titanic, 0.2, 'Survived')"
   ]
  }
 ],
 "metadata": {
  "kernelspec": {
   "display_name": "base",
   "language": "python",
   "name": "python3"
  },
  "language_info": {
   "name": "python",
   "version": "3.11.7"
  }
 },
 "nbformat": 4,
 "nbformat_minor": 2
}
